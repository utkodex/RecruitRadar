{
 "cells": [
  {
   "cell_type": "code",
   "execution_count": 1,
   "id": "caa40ba4",
   "metadata": {},
   "outputs": [],
   "source": [
    "from selenium import webdriver\n",
    "from selenium.webdriver.chrome.service import Service as ChromeService\n",
    "from selenium.webdriver.common.by import By\n",
    "from selenium.webdriver.common.keys import Keys\n",
    "from selenium.webdriver.support.ui import WebDriverWait\n",
    "from selenium.webdriver.support import expected_conditions as EC\n",
    "from selenium.webdriver.common.action_chains import ActionChains\n",
    "from webdriver_manager.chrome import ChromeDriverManager\n",
    "from selenium.common.exceptions import TimeoutException\n",
    "from selenium.common.exceptions import NoSuchElementException\n",
    "import time\n",
    "import os\n",
    "import time\n",
    "import pandas as pd\n",
    "from pandas import DataFrame\n",
    "from datetime import datetime\n",
    "import undetected_chromedriver as uc\n",
    "from fake_useragent import UserAgent\n",
    "import pickle\n",
    "import gspread\n",
    "from google.oauth2.service_account import Credentials"
   ]
  },
  {
   "cell_type": "code",
   "execution_count": 2,
   "id": "20581ec6",
   "metadata": {},
   "outputs": [
    {
     "name": "stdout",
     "output_type": "stream",
     "text": [
      "Cookies loaded successfully.\n",
      "done\n"
     ]
    }
   ],
   "source": [
    "# Create a fake user-agent\n",
    "ua = UserAgent()\n",
    "fake_user_agent = ua.random  # Get a random user-agent\n",
    "\n",
    "# Set up undetected-chromedriver\n",
    "options = uc.ChromeOptions()\n",
    "options.add_argument(f\"user-agent={fake_user_agent}\") \n",
    "options.add_argument(\"--disable-popup-blocking\")\n",
    "options.add_argument(\"--disable-blink-features=AutomationControlled\")\n",
    "options.add_argument(\"--disable-cache\")\n",
    "options.add_argument(\"--aggressive-cache-discard\")\n",
    "options.add_argument(\"--disable-application-cache\")\n",
    "options.add_argument(\"--disable-offline-load-stale-cache\")\n",
    "options.add_argument(\"--disk-cache-size=0\")\n",
    "# Uncomment if you want headless mode\n",
    "# options.add_argument(\"--headless=new\")\n",
    "\n",
    "# Initialize undetected-chromedriver\n",
    "driver = uc.Chrome(version_main=139, options=options)\n",
    "\n",
    "# driver.get(\"https://www.linkedin.com/login?fromSignIn=true&trk=guest_homepage-basic_nav-header-signin\")\n",
    "linkedin_username = \"utkarsh.s@lawsikho.in\"\n",
    "linkedin_password = \"Team123#\"\n",
    "\n",
    "# Define LinkedIn URL and cookies file\n",
    "# linkedin_url = \"https://www.linkedin.com/login?fromSignIn=true&trk=guest_homepage-basic_nav-header-signin\" \n",
    "linkedin_url = \"https://www.linkedin.com/feed/\" \n",
    "cookies_file = f\"{linkedin_username}_cookies.pkl\"\n",
    "\n",
    "# Function to save cookies to a file\n",
    "def save_cookies(driver, file_path):\n",
    "    with open(file_path, \"wb\") as file:\n",
    "        pickle.dump(driver.get_cookies(), file)\n",
    "\n",
    "# Function to load cookies from a file\n",
    "def load_cookies(driver, file_path):\n",
    "    try:\n",
    "        with open(file_path, \"rb\") as file:\n",
    "            cookies = pickle.load(file)\n",
    "            for cookie in cookies:\n",
    "                driver.add_cookie(cookie)\n",
    "    except (EOFError, pickle.UnpicklingError) as e:\n",
    "        print(f\"Error loading cookies: {e}. Deleting corrupted file.\")\n",
    "        os.remove(file_path)  # Remove the corrupted file\n",
    "\n",
    "try:\n",
    "    # Navigate to LinkedIn\n",
    "    driver.get(linkedin_url)\n",
    "    time.sleep(5)  # Wait for page to load\n",
    "\n",
    "    # Check if cookies exist\n",
    "    try:\n",
    "        load_cookies(driver, cookies_file)\n",
    "        print(\"Cookies loaded successfully.\")\n",
    "        \n",
    "        driver.refresh()  # Refresh to apply cookies\n",
    "\n",
    "        # enter_username = WebDriverWait(driver, 20).until(EC.presence_of_element_located((By.XPATH,\"//button[@class='member-profile__details']\")))\n",
    "        # enter_username.click()\n",
    "    except FileNotFoundError:\n",
    "        print(\"Cookies not found. Logging in manually.\")\n",
    "\n",
    "        enter_username = WebDriverWait(driver, 20).until(EC.presence_of_element_located((By.XPATH,\"//input[@id='username']\")))\n",
    "        enter_username.send_keys(linkedin_username)\n",
    "        \n",
    "        enter_password = WebDriverWait(driver, 20).until(EC.presence_of_element_located((By.XPATH,\"//input[@id='password']\")))\n",
    "        enter_password.send_keys(linkedin_password)\n",
    "        \n",
    "        enter_password.send_keys(Keys.RETURN)\n",
    "        time.sleep(10)  # Wait for login to complete\n",
    "\n",
    "        # Save cookies after successful login\n",
    "        save_cookies(driver, cookies_file)\n",
    "        print(\"Cookies saved successfully.\")\n",
    "\n",
    "finally:\n",
    "    print(\"done\")"
   ]
  },
  {
   "cell_type": "code",
   "execution_count": 6,
   "id": "3953032c",
   "metadata": {},
   "outputs": [],
   "source": [
    "search = WebDriverWait(driver, 20).until(EC.presence_of_element_located((By.XPATH,\"//input[@placeholder='Search']\")))\n",
    "search.send_keys(\"AfterQuery Experts\")\n",
    "search.send_keys(Keys.RETURN)"
   ]
  },
  {
   "cell_type": "code",
   "execution_count": 7,
   "id": "60f3facb",
   "metadata": {},
   "outputs": [
    {
     "ename": "TimeoutException",
     "evalue": "Message: \nStacktrace:\n\tGetHandleVerifier [0x0x128a8a3+63283]\n\tGetHandleVerifier [0x0x128a8e4+63348]\n\t(No symbol) [0x0x10c3e43]\n\t(No symbol) [0x0x110c8de]\n\t(No symbol) [0x0x110cc7b]\n\t(No symbol) [0x0x1154ef2]\n\t(No symbol) [0x0x1131464]\n\t(No symbol) [0x0x115271a]\n\t(No symbol) [0x0x1131216]\n\t(No symbol) [0x0x1100855]\n\t(No symbol) [0x0x11016f4]\n\tGetHandleVerifier [0x0x14fbb43+2623955]\n\tGetHandleVerifier [0x0x14f6daa+2604090]\n\tGetHandleVerifier [0x0x12b069a+218410]\n\tGetHandleVerifier [0x0x12a0ed8+154984]\n\tGetHandleVerifier [0x0x12a742d+180925]\n\tGetHandleVerifier [0x0x12922b8+94536]\n\tGetHandleVerifier [0x0x1292442+94930]\n\tGetHandleVerifier [0x0x127d5ea+9338]\n\tBaseThreadInitThunk [0x0x769afcc9+25]\n\tRtlGetAppContainerNamedObjectPath [0x0x772b82ae+286]\n\tRtlGetAppContainerNamedObjectPath [0x0x772b827e+238]\n",
     "output_type": "error",
     "traceback": [
      "\u001b[31m---------------------------------------------------------------------------\u001b[39m",
      "\u001b[31mTimeoutException\u001b[39m                          Traceback (most recent call last)",
      "\u001b[36mCell\u001b[39m\u001b[36m \u001b[39m\u001b[32mIn[7]\u001b[39m\u001b[32m, line 1\u001b[39m\n\u001b[32m----> \u001b[39m\u001b[32m1\u001b[39m search = \u001b[43mWebDriverWait\u001b[49m\u001b[43m(\u001b[49m\u001b[43mdriver\u001b[49m\u001b[43m,\u001b[49m\u001b[43m \u001b[49m\u001b[32;43m20\u001b[39;49m\u001b[43m)\u001b[49m\u001b[43m.\u001b[49m\u001b[43muntil\u001b[49m\u001b[43m(\u001b[49m\u001b[43mEC\u001b[49m\u001b[43m.\u001b[49m\u001b[43mpresence_of_element_located\u001b[49m\u001b[43m(\u001b[49m\u001b[43m(\u001b[49m\u001b[43mBy\u001b[49m\u001b[43m.\u001b[49m\u001b[43mXPATH\u001b[49m\u001b[43m,\u001b[49m\u001b[33;43m\"\u001b[39;49m\u001b[33;43m//div[@class=\u001b[39;49m\u001b[33;43m'\u001b[39;49m\u001b[33;43mGCGAvYKaRvwulIcqzIuxdlfUKudgKpVbO zlVNJAzocxpIgTRHjJgidFnSWtDViMcXCbFgw pt3 pb3 t-12 t-black--light\u001b[39;49m\u001b[33;43m'\u001b[39;49m\u001b[33;43m]\u001b[39;49m\u001b[33;43m\"\u001b[39;49m\u001b[43m)\u001b[49m\u001b[43m)\u001b[49m\u001b[43m)\u001b[49m\n\u001b[32m      2\u001b[39m search=search.text\n\u001b[32m      4\u001b[39m \u001b[38;5;28mprint\u001b[39m(search)\n",
      "\u001b[36mFile \u001b[39m\u001b[32mc:\\Users\\Utkarsh\\AppData\\Local\\Programs\\Python\\Python313\\Lib\\site-packages\\selenium\\webdriver\\support\\wait.py:146\u001b[39m, in \u001b[36mWebDriverWait.until\u001b[39m\u001b[34m(self, method, message)\u001b[39m\n\u001b[32m    144\u001b[39m         \u001b[38;5;28;01mbreak\u001b[39;00m\n\u001b[32m    145\u001b[39m     time.sleep(\u001b[38;5;28mself\u001b[39m._poll)\n\u001b[32m--> \u001b[39m\u001b[32m146\u001b[39m \u001b[38;5;28;01mraise\u001b[39;00m TimeoutException(message, screen, stacktrace)\n",
      "\u001b[31mTimeoutException\u001b[39m: Message: \nStacktrace:\n\tGetHandleVerifier [0x0x128a8a3+63283]\n\tGetHandleVerifier [0x0x128a8e4+63348]\n\t(No symbol) [0x0x10c3e43]\n\t(No symbol) [0x0x110c8de]\n\t(No symbol) [0x0x110cc7b]\n\t(No symbol) [0x0x1154ef2]\n\t(No symbol) [0x0x1131464]\n\t(No symbol) [0x0x115271a]\n\t(No symbol) [0x0x1131216]\n\t(No symbol) [0x0x1100855]\n\t(No symbol) [0x0x11016f4]\n\tGetHandleVerifier [0x0x14fbb43+2623955]\n\tGetHandleVerifier [0x0x14f6daa+2604090]\n\tGetHandleVerifier [0x0x12b069a+218410]\n\tGetHandleVerifier [0x0x12a0ed8+154984]\n\tGetHandleVerifier [0x0x12a742d+180925]\n\tGetHandleVerifier [0x0x12922b8+94536]\n\tGetHandleVerifier [0x0x1292442+94930]\n\tGetHandleVerifier [0x0x127d5ea+9338]\n\tBaseThreadInitThunk [0x0x769afcc9+25]\n\tRtlGetAppContainerNamedObjectPath [0x0x772b82ae+286]\n\tRtlGetAppContainerNamedObjectPath [0x0x772b827e+238]\n"
     ]
    }
   ],
   "source": [
    "search = WebDriverWait(driver, 20).until(EC.presence_of_element_located((By.XPATH,\"//div[@class='GCGAvYKaRvwulIcqzIuxdlfUKudgKpVbO zlVNJAzocxpIgTRHjJgidFnSWtDViMcXCbFgw pt3 pb3 t-12 t-black--light']\")))\n",
    "search=search.text\n",
    "\n",
    "print(search)"
   ]
  },
  {
   "cell_type": "code",
   "execution_count": 8,
   "id": "0510ed4e",
   "metadata": {},
   "outputs": [
    {
     "name": "stdout",
     "output_type": "stream",
     "text": [
      "AfterQuery Experts\n"
     ]
    }
   ],
   "source": [
    "search = WebDriverWait(driver, 60).until(EC.presence_of_element_located((By.XPATH,\"//a[normalize-space()='AfterQuery Experts']\")))\n",
    "search=search.text\n",
    "print(search)"
   ]
  },
  {
   "cell_type": "code",
   "execution_count": 9,
   "id": "90058904",
   "metadata": {},
   "outputs": [
    {
     "name": "stdout",
     "output_type": "stream",
     "text": [
      "https://www.linkedin.com/company/afterquery-experts/\n"
     ]
    }
   ],
   "source": [
    "try:\n",
    "    search = WebDriverWait(driver, 2).until(EC.presence_of_element_located((By.XPATH,\"//a[normalize-space()='AfterQuery Experts']\")))\n",
    "    search=search.get_attribute(\"href\")\n",
    "    print(search)\n",
    "except:\n",
    "    print(\"No\")"
   ]
  },
  {
   "cell_type": "code",
   "execution_count": 14,
   "id": "c6800dbe",
   "metadata": {},
   "outputs": [
    {
     "data": {
      "text/plain": [
       "'https://www.linkedin.com/search/results/companies/?keywords=Techmagnate%20SA'"
      ]
     },
     "execution_count": 14,
     "metadata": {},
     "output_type": "execute_result"
    }
   ],
   "source": [
    "# https://www.linkedin.com/search/results/companies/?keywords=AfterQuery%20Experts\n",
    "\n",
    "keyword = \"Techmagnate SA\"\n",
    "\n",
    "keyword=keyword.replace(\" \", \"%20\")\n",
    "link = f\"https://www.linkedin.com/search/results/companies/?keywords={keyword}\"\n",
    "link"
   ]
  },
  {
   "cell_type": "code",
   "execution_count": 20,
   "id": "b4b808a5",
   "metadata": {},
   "outputs": [
    {
     "data": {
      "text/plain": [
       "'https://www.linkedin.com/search/results/hello/?keywords=afterquery%20experts'"
      ]
     },
     "execution_count": 20,
     "metadata": {},
     "output_type": "execute_result"
    }
   ],
   "source": [
    "def fetch_linkedin_link(filter, keyword):\n",
    "    # Function to fetch LinkedIn company data\n",
    "    keyword = keyword.lower()\n",
    "    keyword = keyword.replace(\" \", \"%20\")\n",
    "    link = f\"https://www.linkedin.com/search/results/{filter.lower()}/?keywords={keyword}\"\n",
    "    return link\n",
    "\n",
    "fetch_linkedin_link(\"Hello\", \"AfterQuery Experts\")"
   ]
  },
  {
   "cell_type": "code",
   "execution_count": null,
   "id": "f42c39e7",
   "metadata": {},
   "outputs": [],
   "source": []
  }
 ],
 "metadata": {
  "kernelspec": {
   "display_name": "Python 3",
   "language": "python",
   "name": "python3"
  },
  "language_info": {
   "codemirror_mode": {
    "name": "ipython",
    "version": 3
   },
   "file_extension": ".py",
   "mimetype": "text/x-python",
   "name": "python",
   "nbconvert_exporter": "python",
   "pygments_lexer": "ipython3",
   "version": "3.13.2"
  }
 },
 "nbformat": 4,
 "nbformat_minor": 5
}
